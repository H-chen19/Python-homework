{
 "cells": [
  {
   "cell_type": "code",
   "execution_count": 1,
   "metadata": {},
   "outputs": [
    {
     "name": "stdout",
     "output_type": "stream",
     "text": [
      "```text\n",
      "Financial Analysis\n",
      "----------------------------\n",
      "\n",
      "Number of months: 86\n",
      "Net amount of Profit/Losses: $38382578.0\n",
      "Average_of_thee_change_in_pnl: $-2315.12\n",
      "Greatest_increase_in_profits: Feb-2012, $1926159.0\n",
      "Greatest_decrease_in_profits: Sep-2013, $-2196167.0\n"
     ]
    }
   ],
   "source": [
    "from pathlib import Path\n",
    "import csv\n",
    "\n",
    "csvpath = Path('../../CU-NYC-FIN-PT-08-2019-U-C/02-Homework/02-Python/Instructions/PyBank/Resources/budget_data.csv')\n",
    "\n",
    "\n",
    "total_month = 0\n",
    "total_pnl = 0\n",
    "monthly_change_pnl = 0\n",
    "maximum_increase = 0\n",
    "minimum = 0 \n",
    "average = 0\n",
    "total_month_list =[]\n",
    "total_pnl_list = []\n",
    "monthly_profit_change = []\n",
    "\n",
    "\n",
    "\n",
    "with open(csvpath, 'r') as csvfile: \n",
    "    csvreader = csv.reader(csvfile, delimiter=\",\")\n",
    " \n",
    "    csv_hearder = next(csvreader)\n",
    "    \n",
    "    # The total number of months included in the dataset.  \n",
    "    for row in csvreader:\n",
    "        total_month += 1\n",
    "\n",
    "    # The net total amount of Profit/Losses over the entire period.\n",
    "        \n",
    "        total_pnl += float((row[1]))\n",
    "\n",
    "        total_month_list.append(row[0])\n",
    "        total_pnl_list.append(float(row[1]))\n",
    "\n",
    "# The average of the changes in Profit/Losses over the entire period.\n",
    "\n",
    "    for x in range(len(total_pnl_list)-1):\n",
    "        \n",
    "        # to find the change in profit/Losses and append the changes to one list\n",
    "        change = total_pnl_list[x+1] - total_pnl_list[x]\n",
    "        monthly_profit_change.append(change)\n",
    "\n",
    "average =round(sum(monthly_profit_change)/len(monthly_profit_change),2)\n",
    "\n",
    "\n",
    "# The greatest increase in profits (date and amount) over the entire period.\n",
    "maximum_increase_amount = max(monthly_profit_change)\n",
    "\n",
    "# use +1 to move to next month\n",
    "maximum_increase_month = monthly_profit_change.index(max(monthly_profit_change)) + 1\n",
    "\n",
    "\n",
    "# The greatest decrease in losses (date and amount) over the entire period.\n",
    "\n",
    "maximum_decrease_amount = min(monthly_profit_change)\n",
    "\n",
    "# use +1 to move to next month\n",
    "maximum_decrease_month = monthly_profit_change.index(min(monthly_profit_change)) + 1\n",
    "\n",
    "\n",
    "print(f'```text')\n",
    "print(\"Financial Analysis\")\n",
    "print(\"----------------------------\")\n",
    "print('')\n",
    "print(f\"Number of months: {total_month}\")\n",
    "print(f\"Net amount of Profit/Losses: ${total_pnl}\")\n",
    "print(f\"Average_of_thee_change_in_pnl: ${average}\")\n",
    "print(f'Greatest_increase_in_profits: {total_month_list[maximum_increase_month]}, ${str(maximum_increase_amount)}')\n",
    "print(f'Greatest_decrease_in_profits: {total_month_list[maximum_decrease_month]}, ${str(maximum_decrease_amount)}')\n",
    "\n"
   ]
  },
  {
   "cell_type": "code",
   "execution_count": null,
   "metadata": {},
   "outputs": [],
   "source": []
  }
 ],
 "metadata": {
  "kernelspec": {
   "display_name": "Python 3",
   "language": "python",
   "name": "python3"
  },
  "language_info": {
   "codemirror_mode": {
    "name": "ipython",
    "version": 3
   },
   "file_extension": ".py",
   "mimetype": "text/x-python",
   "name": "python",
   "nbconvert_exporter": "python",
   "pygments_lexer": "ipython3",
   "version": "3.7.3"
  }
 },
 "nbformat": 4,
 "nbformat_minor": 4
}
